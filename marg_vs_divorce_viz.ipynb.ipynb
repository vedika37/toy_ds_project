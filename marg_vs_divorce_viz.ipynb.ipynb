{
 "cells": [
  {
   "cell_type": "code",
   "execution_count": 1,
   "id": "3d427686-0073-4a9b-b5d8-2ecbd77b5d3e",
   "metadata": {
    "tags": []
   },
   "outputs": [
    {
     "name": "stdout",
     "output_type": "stream",
     "text": [
      "Note: you may need to restart the kernel to use updated packages.\n"
     ]
    }
   ],
   "source": [
    "pip install altair>=5\n"
   ]
  },
  {
   "cell_type": "code",
   "execution_count": 2,
   "id": "ae06d62e-5a1f-4047-aec3-f9c375e5e938",
   "metadata": {
    "tags": []
   },
   "outputs": [],
   "source": [
    "import altair as alt\n",
    "import pandas as pd\n"
   ]
  },
  {
   "cell_type": "code",
   "execution_count": 3,
   "id": "9c5f2799-d942-44f5-b4ed-be3aee44d0e3",
   "metadata": {
    "tags": []
   },
   "outputs": [],
   "source": [
    "\n",
    "should_have_bought_butter = pd.DataFrame({\n",
    "    \"margarine_consumption\": [8.2, 7, 6.5, 5.3, 5.2, 4, 4.6, 4.5, 4.2, 3.7],\n",
    "    \"maine_divorce_rate\": [5, 4.7, 4.6, 4.4, 4.3, 4.1, 4.2, 4.2, 4.2, 4.1],\n",
    "    \"year\": [2000, 2001, 2002, 2003, 2004, 2005, 2006, 2007, 2008, 2009]\n",
    "})\n"
   ]
  },
  {
   "cell_type": "code",
   "execution_count": 4,
   "id": "973160ac-5198-40ea-8ba1-3e144be3843d",
   "metadata": {
    "tags": []
   },
   "outputs": [
    {
     "ename": "TypeError",
     "evalue": "'UndefinedType' object is not callable",
     "output_type": "error",
     "traceback": [
      "\u001b[0;31m---------------------------------------------------------------------------\u001b[0m",
      "\u001b[0;31mTypeError\u001b[0m                                 Traceback (most recent call last)",
      "Cell \u001b[0;32mIn[4], line 2\u001b[0m\n\u001b[1;32m      1\u001b[0m marg_vs_time \u001b[38;5;241m=\u001b[39m alt\u001b[38;5;241m.\u001b[39mChart(should_have_bought_butter)\u001b[38;5;241m.\u001b[39mmark_line(color\u001b[38;5;241m=\u001b[39m\u001b[38;5;124m\"\u001b[39m\u001b[38;5;124msteelblue\u001b[39m\u001b[38;5;124m\"\u001b[39m)\u001b[38;5;241m.\u001b[39mencode(\n\u001b[0;32m----> 2\u001b[0m     x\u001b[38;5;241m=\u001b[39m\u001b[43malt\u001b[49m\u001b[38;5;241;43m.\u001b[39;49m\u001b[43mX\u001b[49m\u001b[43m(\u001b[49m\u001b[38;5;124;43m\"\u001b[39;49m\u001b[38;5;124;43myear\u001b[39;49m\u001b[38;5;124;43m\"\u001b[39;49m\u001b[43m)\u001b[49m\u001b[38;5;241;43m.\u001b[39;49m\u001b[43mtitle\u001b[49m\u001b[43m(\u001b[49m\u001b[38;5;124;43m\"\u001b[39;49m\u001b[38;5;124;43mYear\u001b[39;49m\u001b[38;5;124;43m\"\u001b[39;49m\u001b[43m)\u001b[49m,\n\u001b[1;32m      3\u001b[0m     y\u001b[38;5;241m=\u001b[39malt\u001b[38;5;241m.\u001b[39mY(\u001b[38;5;124m\"\u001b[39m\u001b[38;5;124mmargarine_consumption\u001b[39m\u001b[38;5;124m\"\u001b[39m)\n\u001b[1;32m      4\u001b[0m         \u001b[38;5;241m.\u001b[39mtitle(\u001b[38;5;124m\"\u001b[39m\u001b[38;5;124mMargarine consumption (lbs per capita)\u001b[39m\u001b[38;5;124m\"\u001b[39m)\n\u001b[1;32m      5\u001b[0m         \u001b[38;5;241m.\u001b[39mscale(zero\u001b[38;5;241m=\u001b[39m\u001b[38;5;28;01mFalse\u001b[39;00m)\n\u001b[1;32m      6\u001b[0m )\u001b[38;5;241m.\u001b[39mproperties(\n\u001b[1;32m      7\u001b[0m     height\u001b[38;5;241m=\u001b[39m\u001b[38;5;241m250\u001b[39m\n\u001b[1;32m      8\u001b[0m )\n",
      "\u001b[0;31mTypeError\u001b[0m: 'UndefinedType' object is not callable"
     ]
    }
   ],
   "source": [
    "\n",
    "marg_vs_time = alt.Chart(should_have_bought_butter).mark_line(color=\"steelblue\").encode(\n",
    "    x=alt.X(\"year\").title(\"Year\"),\n",
    "    y=alt.Y(\"margarine_consumption\")\n",
    "        .title(\"Margarine consumption (lbs per capita)\")\n",
    "        .scale(zero=False)\n",
    ").properties(\n",
    "    height=250\n",
    ")\n"
   ]
  },
  {
   "cell_type": "code",
   "execution_count": null,
   "id": "46e045d5-abe5-40f0-9e30-28d6838fde2b",
   "metadata": {
    "tags": []
   },
   "outputs": [],
   "source": [
    "\n",
    "divorce_rate_vs_time = marg_vs_time.mark_line(color=\"coral\").encode(\n",
    "    y=alt.Y(\"maine_divorce_rate\")\n",
    "        .title(\"Divorce rate in Maine (per 1000\")\n",
    "        .scale(zero=False)\n",
    ")\n",
    "\n",
    "(marg_vs_time | divorce_rate_vs_time).properties(\n",
    "    title=\"Divorce rate in Maine correlates with margarine consumption\"\n",
    ")"
   ]
  }
 ],
 "metadata": {
  "kernelspec": {
   "display_name": "Python 3 (ipykernel)",
   "language": "python",
   "name": "python3"
  },
  "language_info": {
   "codemirror_mode": {
    "name": "ipython",
    "version": 3
   },
   "file_extension": ".py",
   "mimetype": "text/x-python",
   "name": "python",
   "nbconvert_exporter": "python",
   "pygments_lexer": "ipython3",
   "version": "3.10.8"
  }
 },
 "nbformat": 4,
 "nbformat_minor": 5
}
